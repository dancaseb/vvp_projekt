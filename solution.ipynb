{
 "cells": [
  {
   "cell_type": "code",
   "execution_count": 5,
   "metadata": {},
   "outputs": [],
   "source": [
    "from my_module import Manager\n",
    "# tk backend opens a new interactive window\n",
    "%matplotlib tk\n",
    "# run the calculations\n",
    "manager = Manager(\"data/test.json\")\n",
    "manager.run()"
   ]
  },
  {
   "cell_type": "code",
   "execution_count": 6,
   "outputs": [
    {
     "ename": "AttributeError",
     "evalue": "'Animation' object has no attribute 'start_animation'",
     "output_type": "error",
     "traceback": [
      "\u001B[1;31m---------------------------------------------------------------------------\u001B[0m",
      "\u001B[1;31mAttributeError\u001B[0m                            Traceback (most recent call last)",
      "Cell \u001B[1;32mIn[6], line 5\u001B[0m\n\u001B[0;32m      3\u001B[0m \u001B[38;5;66;03m# manager class with run function. Starts the execution\u001B[39;00m\n\u001B[0;32m      4\u001B[0m manager \u001B[38;5;241m=\u001B[39m Manager(\u001B[38;5;124m\"\u001B[39m\u001B[38;5;124mdata/planets.json\u001B[39m\u001B[38;5;124m\"\u001B[39m)\n\u001B[1;32m----> 5\u001B[0m \u001B[43mmanager\u001B[49m\u001B[38;5;241;43m.\u001B[39;49m\u001B[43mrun\u001B[49m\u001B[43m(\u001B[49m\u001B[43m)\u001B[49m\n",
      "File \u001B[1;32m~\\PycharmProjects\\vvp_projekt\\planet_project.py:40\u001B[0m, in \u001B[0;36mManager.run\u001B[1;34m(self)\u001B[0m\n\u001B[0;32m     38\u001B[0m planets \u001B[38;5;241m=\u001B[39m \u001B[38;5;28mself\u001B[39m\u001B[38;5;241m.\u001B[39mloader\u001B[38;5;241m.\u001B[39mload_data()\n\u001B[0;32m     39\u001B[0m \u001B[38;5;28mself\u001B[39m\u001B[38;5;241m.\u001B[39msystem\u001B[38;5;241m.\u001B[39madd_planets(planets)\n\u001B[1;32m---> 40\u001B[0m \u001B[38;5;28;43mself\u001B[39;49m\u001B[38;5;241;43m.\u001B[39;49m\u001B[43manimation\u001B[49m\u001B[38;5;241;43m.\u001B[39;49m\u001B[43mstart_animation\u001B[49m()\n",
      "\u001B[1;31mAttributeError\u001B[0m: 'Animation' object has no attribute 'start_animation'"
     ]
    }
   ],
   "source": [],
   "metadata": {
    "collapsed": false
   }
  }
 ],
 "metadata": {
  "kernelspec": {
   "display_name": "Python 3 (ipykernel)",
   "language": "python",
   "name": "python3"
  },
  "language_info": {
   "codemirror_mode": {
    "name": "ipython",
    "version": 3
   },
   "file_extension": ".py",
   "mimetype": "text/x-python",
   "name": "python",
   "nbconvert_exporter": "python",
   "pygments_lexer": "ipython3",
   "version": "3.10.7"
  }
 },
 "nbformat": 4,
 "nbformat_minor": 1
}
